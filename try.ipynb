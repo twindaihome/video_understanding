{
 "cells": [
  {
   "cell_type": "code",
   "execution_count": 177,
   "metadata": {},
   "outputs": [
    {
     "data": {
      "text/plain": [
       "2    2\n",
       "3    3\n",
       "dtype: int64"
      ]
     },
     "execution_count": 177,
     "metadata": {},
     "output_type": "execute_result"
    }
   ],
   "source": [
    "import pandas as pd\n",
    "import numpy as nd\n",
    "import json\n",
    "s = pd.Series([0,1,2,3,4,5,6,7,8,9,10])\n",
    "\n",
    "a =[1,2,3,4,5,6,7,8]\n",
    "b = [0] * 10\n",
    "b[2 : 5+5] = a[:8]\n",
    "b\n",
    "\n",
    "l = list()\n",
    "l.append(2)\n",
    "l.append(3)\n",
    "l.append(4)\n",
    "l\n",
    "\n",
    "s.describe()\n",
    "s[2:4]"
   ]
  },
  {
   "cell_type": "code",
   "execution_count": 113,
   "metadata": {},
   "outputs": [
    {
     "data": {
      "text/plain": [
       "count    11.000000\n",
       "mean      5.000000\n",
       "std       3.316625\n",
       "min       0.000000\n",
       "25%       2.500000\n",
       "50%       5.000000\n",
       "75%       7.500000\n",
       "max      10.000000\n",
       "dtype: float64"
      ]
     },
     "execution_count": 113,
     "metadata": {},
     "output_type": "execute_result"
    }
   ],
   "source": [
    "s.describe()"
   ]
  },
  {
   "cell_type": "code",
   "execution_count": 164,
   "metadata": {},
   "outputs": [
    {
     "data": {
      "text/plain": [
       "[[48318, 0, 0, 0, 0, 0, 0, 0, 0, 0, 0, 0, 0],\n",
       " [1192644, 0, 0, 0, 0, 0, 0, 0, 0, 0, 0, 0, 0],\n",
       " [1329871, 1, 0.6, 0.125, 0.3125, 0.65, 0.4797, 0, 0, 0, 0, 0, 0],\n",
       " [323042, 0, 0, 0, 0, 0, 0, 0, 0, 0, 0, 0, 0],\n",
       " [864967, 1, 0.41, 0.4806, 0.4016, 0.0917, 0.0531, 0, 0, 0, 0, 0, 0],\n",
       " [73400, 0, 0, 0, 0, 0, 0, 0, 0, 0, 0, 0, 0],\n",
       " [813408, 0, 0, 0, 0, 0, 0, 0, 0, 0, 0, 0, 0],\n",
       " [1301172, 0, 0, 0, 0, 0, 0, 0, 0, 0, 0, 0, 0],\n",
       " [62277, 0, 0.48, 0.1917, 0.3781, 0.1056, 0.0828, 0, 0, 0, 0, 0, 0],\n",
       " [1567284, 0, 0.59, 0.1889, 0.0516, 0.45, 0.3797, 0, 0, 0, 0, 0, 0],\n",
       " [1309941, 0, 0, 0, 0, 0, 0, 0, 0, 0, 0, 0, 0],\n",
       " [436286, 0, 0, 0, 0, 0, 0, 0, 0, 0, 0, 0, 0],\n",
       " [1585516, 1, 0.57, 0.3139, 0.3203, 0.4556, 0.2422, 0, 0, 0, 0, 0, 0],\n",
       " [1617213, 0, 0, 0, 0, 0, 0, 0, 0, 0, 0, 0, 0],\n",
       " [1256799, 1, 0.59, 0.3118, 0.1938, 0.4185, 0.3359, 0, 0, 0, 0, 0, 0],\n",
       " [897160,\n",
       "  0,\n",
       "  0.51,\n",
       "  0.7,\n",
       "  0.0609,\n",
       "  0.1306,\n",
       "  0.0984,\n",
       "  1,\n",
       "  0.47,\n",
       "  0.2583,\n",
       "  0.2297,\n",
       "  0.0889,\n",
       "  0.0641],\n",
       " [1042245, 0, 0, 0, 0, 0, 0, 0, 0, 0, 0, 0, 0],\n",
       " [105454, 0, 0, 0, 0, 0, 0, 0, 0, 0, 0, 0, 0],\n",
       " [1247111, 0, 0.35, 0.4444, 0.3297, 0.0667, 0.0766, 0, 0, 0, 0, 0, 0],\n",
       " [1075435, 0, 0, 0, 0, 0, 0, 0, 0, 0, 0, 0, 0]]"
      ]
     },
     "execution_count": 164,
     "metadata": {},
     "output_type": "execute_result"
    }
   ],
   "source": [
    "path = 'input/' + 'track2_face_attrs_100000.txt'\n",
    "rows = list()\n",
    "keyname = 'face_attrs'\n",
    "dimLength = 12\n",
    "primaryKey='item_id'\n",
    "with open(path, 'r') as f:\n",
    "    for i, line in enumerate(f):\n",
    "        if i >= 20:\n",
    "            break\n",
    "        row = [0] * (dimLength + 1)\n",
    "        content = json.loads(line)\n",
    "        item_id = int(content[primaryKey])\n",
    "        row[0] = item_id\n",
    "        key_data = content[keyname]\n",
    "\n",
    "        if keyname == 'face_attrs':\n",
    "            for idx, attr in enumerate(key_data) :\n",
    "                row[idx*6+1: idx*6+7] = [attr['gender'], attr['beauty']] + attr['relative_position']\n",
    "        else:\n",
    "            col_num = min(dimLength, len(key_data))\n",
    "            row[:col_num] = key_data[:col_num]\n",
    "\n",
    "        rows.append(row)\n",
    "\n",
    "rows"
   ]
  },
  {
   "cell_type": "code",
   "execution_count": 220,
   "metadata": {},
   "outputs": [
    {
     "data": {
      "text/html": [
       "<div>\n",
       "<style scoped>\n",
       "    .dataframe tbody tr th:only-of-type {\n",
       "        vertical-align: middle;\n",
       "    }\n",
       "\n",
       "    .dataframe tbody tr th {\n",
       "        vertical-align: top;\n",
       "    }\n",
       "\n",
       "    .dataframe thead th {\n",
       "        text-align: right;\n",
       "    }\n",
       "</style>\n",
       "<table border=\"1\" class=\"dataframe\">\n",
       "  <thead>\n",
       "    <tr style=\"text-align: right;\">\n",
       "      <th></th>\n",
       "      <th>a0</th>\n",
       "      <th>a1</th>\n",
       "      <th>a2</th>\n",
       "      <th>item</th>\n",
       "    </tr>\n",
       "  </thead>\n",
       "  <tbody>\n",
       "    <tr>\n",
       "      <th>0</th>\n",
       "      <td>10</td>\n",
       "      <td>20</td>\n",
       "      <td>20</td>\n",
       "      <td>5</td>\n",
       "    </tr>\n",
       "    <tr>\n",
       "      <th>1</th>\n",
       "      <td>30</td>\n",
       "      <td>10</td>\n",
       "      <td>20</td>\n",
       "      <td>59</td>\n",
       "    </tr>\n",
       "    <tr>\n",
       "      <th>2</th>\n",
       "      <td>10</td>\n",
       "      <td>30</td>\n",
       "      <td>40</td>\n",
       "      <td>51</td>\n",
       "    </tr>\n",
       "  </tbody>\n",
       "</table>\n",
       "</div>"
      ],
      "text/plain": [
       "   a0  a1  a2  item\n",
       "0  10  20  20     5\n",
       "1  30  10  20    59\n",
       "2  10  30  40    51"
      ]
     },
     "execution_count": 220,
     "metadata": {},
     "output_type": "execute_result"
    }
   ],
   "source": [
    "data = nd.array([[10,20,20],[30,10,20],[10,30,40]])\n",
    "data2 = nd.array([5,59,51])\n",
    "df = pd.DataFrame(data, columns = [ 'a' + str(x) for x in range(3)])\n",
    "df2 = pd.DataFrame(data2, columns = ['item'] )\n",
    "pd.concat([df, df2],  axis=1)"
   ]
  },
  {
   "cell_type": "code",
   "execution_count": 199,
   "metadata": {},
   "outputs": [
    {
     "data": {
      "text/plain": [
       "'adasdadwad'"
      ]
     },
     "execution_count": 199,
     "metadata": {},
     "output_type": "execute_result"
    }
   ],
   "source": [
    "\"adasd\"+\"adwad\""
   ]
  },
  {
   "cell_type": "code",
   "execution_count": null,
   "metadata": {},
   "outputs": [],
   "source": []
  }
 ],
 "metadata": {
  "kernelspec": {
   "display_name": "Python 3",
   "language": "python",
   "name": "python3"
  },
  "language_info": {
   "codemirror_mode": {
    "name": "ipython",
    "version": 3
   },
   "file_extension": ".py",
   "mimetype": "text/x-python",
   "name": "python",
   "nbconvert_exporter": "python",
   "pygments_lexer": "ipython3",
   "version": "3.7.3"
  }
 },
 "nbformat": 4,
 "nbformat_minor": 2
}
